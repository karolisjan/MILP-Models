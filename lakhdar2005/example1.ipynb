{
 "cells": [
  {
   "cell_type": "markdown",
   "metadata": {},
   "source": [
    "## Example 1 problem from [Lakhdar et al. (2005)](http://onlinelibrary.wiley.com/doi/10.1021/bp0501571/abstract)\n",
    "\n",
    "$\\text{Maximise}$\n",
    "\n",
    "$$\\text{Profit} = \\sum_p \\sum_t (\\nu_pS_{pt} - \\sum_i \\eta_pCP_{ipt} - \\sum_j \\eta_pFP_{jpt} - \\sum_i \\psi_pZ_{ipt} - \\sum_j \\psi_pX_{jpt} - \\rho_pCI_{pt} - \\omega_pFI_{pt} - \\delta_p\\Delta_{pt} - \\tau_p(CW_{pt} + FW_{pt}))$$\n",
    "\n",
    "$\\text{Production constraints}$\n",
    "\n",
    "$$CP_{ipt} = Z_{ipt} + CR_p (CT_{ipt} - \\alpha_p Z_{ipt}) \\quad \\forall i, p, t$$\n",
    "<br>\n",
    "$$FP_{jpt} = W_{jpt} + FR_p (FT_{jpt} - \\beta_p W_{jpt}) \\quad \\forall j, p, t$$\n",
    "<br>\n",
    "$$Z_{ipt} \\ge Y_{ipt} - Y_{ip,t-1} \\quad \\forall i, p, t$$\n",
    "<br>\n",
    "$$X_{jpt} \\ge U_{jpt} - U_{jp,t-1} \\quad \\forall j, p, t$$\n",
    "<br>\n",
    "$$W_{jpt} \\ge \\frac{\\sum_i Z_{ipt}} {\\big|i\\big|} + X_{jpt} - 1 \\quad \\forall j, p, t$$ \n",
    "<br>\n",
    "$$\\sum_p Y_{ipt} \\le 1 \\quad \\forall i, t$$\n",
    "<br>\n",
    "$$\\sum_p U_{jpt} \\le 1 \\quad \\forall j, t$$\n",
    "\n",
    "$\\text{Timing constraints}$\n",
    "\n",
    "$$CT_p^{min} Y_{ipt} \\le CT_{ipt} \\quad \\forall i, p, t$$\n",
    "<br>\n",
    "$$CT_p^{max} Y_{ipt} \\ge CT_{ipt} \\quad \\forall i, p, t$$\n",
    "<br>\n",
    "$$FT_p^{min} U_{jpt} \\le FT_{jpt} \\quad \\forall j, p, t$$\n",
    "<br>\n",
    "$$FT_p^{max} U_{jpt} \\ge FT_{jpt} \\quad \\forall j, p, t$$\n",
    "<br>\n",
    "$$CT_{it}^{tot} = \\sum_p CT_{ipt} \\quad \\forall i, t$$\n",
    "<br>\n",
    "$$FT_{jt}^{tot} = \\sum_p FT_{jpt} \\quad \\forall j, t$$\n",
    "<br>\n",
    "$$CT_{it}^{tot} \\le H_t \\quad \\forall i, t$$\n",
    "<br>\n",
    "$$FT_{jt}^{tot} \\le H_t \\quad \\forall j, t$$\n",
    "\n",
    "$\\text{Storage constraints}$\n",
    "\n",
    "$$CI_{pt} = CI_{p,t-1} + \\sum_i CP_{ipt} - \\frac{1}{\\lambda_p} \\sum_j FP_{jpt} - CW_{pt} \\quad \\forall p, t$$\n",
    "<br>\n",
    "$$FI_{pt} = FI_{p,t-1} + \\sum_j FP_{jpt} - S_{pt} - FW_{pt} \\quad \\forall p, t$$\n",
    "<br>\n",
    "$$0 \\le CI_{pt} \\le C_p \\quad \\forall p, t$$\n",
    "<br>\n",
    "$$0 \\le FI_{pt} \\le F_p \\quad \\forall p, t$$\n",
    "<br>\n",
    "$$CI_{pt} \\le \\sum_j \\sum_{\\theta=t+1}^{t+\\zeta_p} FP_{jp\\theta} \\quad \\forall p, t$$\n",
    "<br>\n",
    "$$FI_{pt} \\le \\sum_{\\theta=t+1}^{t+\\sigma_p} S_{p\\theta} \\quad \\forall p, t$$\n",
    "\n",
    "$\\text{Sales and penalty constraint}$\n",
    "\n",
    "$$\\Delta_{pt} = \\Delta_{p,t-1} + D_{pt} - S_{pt} \\quad \\forall p, t$$"
   ]
  },
  {
   "cell_type": "markdown",
   "metadata": {},
   "source": [
    "### Input data"
   ]
  },
  {
   "cell_type": "code",
   "execution_count": 1,
   "metadata": {},
   "outputs": [
    {
     "data": {
      "text/plain": [
       "60"
      ]
     },
     "execution_count": 1,
     "metadata": {},
     "output_type": "execute_result"
    }
   ],
   "source": [
    "num_products = 3 # |p|\n",
    "num_usp_suites = 2 # |i|\n",
    "num_dsp_suites = 2 # |j|\n",
    "num_periods = 6 # |t|\n",
    "\n",
    "demand = [0 0 0 6 0 6;\n",
    "          0 0 6 0 0 0;\n",
    "          0 8 0 0 8 0]\n",
    "\n",
    "# USP parameters\n",
    "CR = [0.05 0.045 0.08]\n",
    "alpha = [30 32 22.5]\n",
    "zeta = [1 1 1]\n",
    "C = [10 10 10]\n",
    "CTmin = [20 21 12.5]\n",
    "CTmax = [60 60 60]\n",
    "rho = [5 5 5]\n",
    "nu = [20 20 20]\n",
    "eta = [2 2 2]\n",
    "tau = [5 5 5]\n",
    "\n",
    "# DSP parameters\n",
    "FR = [0.1 0.1 0.1]\n",
    "beta = [40 42 34.5]\n",
    "sigma = [3 3 3]\n",
    "F = [40 40 40]\n",
    "FTmin = [10 10 10]\n",
    "FTmax = [60 60 60]\n",
    "omega = [1 1 1]\n",
    "\n",
    "# Other\n",
    "delta = [20 20 20]\n",
    "psi = [1 1 1]\n",
    "lambda = [1 1 1]\n",
    "H = 60"
   ]
  },
  {
   "cell_type": "markdown",
   "metadata": {},
   "source": [
    "### Implementation\n",
    "\n",
    "#### Variables"
   ]
  },
  {
   "cell_type": "code",
   "execution_count": 41,
   "metadata": {},
   "outputs": [
    {
     "data": {
      "text/latex": [
       "$$ \\begin{alignat*}{1}\\min\\quad & 0\\\\\n",
       "\\text{Subject to} \\quad & U_{j,p,t} \\in \\{0,1\\} \\quad\\forall j \\in \\{1,2\\}, p \\in \\{1,2,3\\}, t \\in \\{1,2,\\dots,5,6\\}\\\\\n",
       " & W_{j,p,t} \\in \\{0,1\\} \\quad\\forall j \\in \\{1,2\\}, p \\in \\{1,2,3\\}, t \\in \\{1,2,\\dots,5,6\\}\\\\\n",
       " & X_{j,p,t} \\in \\{0,1\\} \\quad\\forall j \\in \\{1,2\\}, p \\in \\{1,2,3\\}, t \\in \\{1,2,\\dots,5,6\\}\\\\\n",
       " & Y_{i,p,t} \\in \\{0,1\\} \\quad\\forall i \\in \\{1,2\\}, p \\in \\{1,2,3\\}, t \\in \\{1,2,\\dots,5,6\\}\\\\\n",
       " & Z_{i,p,t} \\in \\{0,1\\} \\quad\\forall i \\in \\{1,2\\}, p \\in \\{1,2,3\\}, t \\in \\{1,2,\\dots,5,6\\}\\\\\n",
       " & CP_{i,p,t}, \\in \\mathbb{Z}, \\quad\\forall i \\in \\{1,2\\}, p \\in \\{1,2,3\\}, t \\in \\{1,2,\\dots,5,6\\}\\\\\n",
       " & CI_{p,t}, \\in \\mathbb{Z}, \\quad\\forall p \\in \\{1,2,3\\}, t \\in \\{1,2,\\dots,5,6\\}\\\\\n",
       " & CW_{i,t}, \\in \\mathbb{Z}, \\quad\\forall i \\in \\{1,2,3\\}, t \\in \\{1,2,\\dots,5,6\\}\\\\\n",
       " & FP_{j,p,t}, \\in \\mathbb{Z}, \\quad\\forall j \\in \\{1,2\\}, p \\in \\{1,2,3\\}, t \\in \\{1,2,\\dots,5,6\\}\\\\\n",
       " & FI_{p,t}, \\in \\mathbb{Z}, \\quad\\forall p \\in \\{1,2,3\\}, t \\in \\{1,2,\\dots,5,6\\}\\\\\n",
       " & FW_{p,t}, \\in \\mathbb{Z}, \\quad\\forall p \\in \\{1,2,3\\}, t \\in \\{1,2,\\dots,5,6\\}\\\\\n",
       " & S_{p,t}, \\in \\mathbb{Z}, \\quad\\forall p \\in \\{1,2,3\\}, t \\in \\{1,2,\\dots,5,6\\}\\\\\n",
       " & Delta_{p,t}, \\in \\mathbb{Z}, \\quad\\forall p \\in \\{1,2,3\\}, t \\in \\{1,2,\\dots,5,6\\}\\\\\n",
       " & CT_{i,p,t} \\geq 0 \\quad\\forall i \\in \\{1,2\\}, p \\in \\{1,2,3\\}, t \\in \\{1,2,\\dots,5,6\\}\\\\\n",
       " & CTtot_{i,t} \\geq 0 \\quad\\forall i \\in \\{1,2\\}, t \\in \\{1,2,\\dots,5,6\\}\\\\\n",
       " & FT_{j,p,t} \\geq 0 \\quad\\forall j \\in \\{1,2\\}, p \\in \\{1,2,3\\}, t \\in \\{1,2,\\dots,5,6\\}\\\\\n",
       " & FTtot_{j,t} \\geq 0 \\quad\\forall j \\in \\{1,2\\}, t \\in \\{1,2,\\dots,5,6\\}\\\\\n",
       "\\end{alignat*}\n",
       " $$"
      ],
      "text/plain": [
       "Feasibility problem with:\n",
       " * 0 linear constraints\n",
       " * 456 variables: 180 binary, 180 integer\n",
       "Solver is Cplex"
      ]
     },
     "execution_count": 41,
     "metadata": {},
     "output_type": "execute_result"
    }
   ],
   "source": [
    "using JuMP, CPLEX\n",
    "\n",
    "model = Model(solver=CplexSolver(CPX_PARAM_REDUCE=2))\n",
    "\n",
    "# Binary variables\n",
    "@variable(model, U[j=1:num_dsp_suites, p=1:num_products, t=1:num_periods], Bin)\n",
    "@variable(model, W[j=1:num_dsp_suites, p=1:num_products, t=1:num_periods], Bin)\n",
    "@variable(model, X[j=1:num_dsp_suites, p=1:num_products, t=1:num_periods], Bin)\n",
    "@variable(model, Y[i=1:num_usp_suites, p=1:num_products, t=1:num_periods], Bin)\n",
    "@variable(model, Z[i=1:num_usp_suites, p=1:num_products, t=1:num_periods], Bin)\n",
    "\n",
    "# Integer variables\n",
    "@variable(model, CP[i=1:num_usp_suites, p=1:num_products, t=1:num_periods], Int)\n",
    "@variable(model, CI[p=1:num_products, t=1:num_periods], Int)\n",
    "@variable(model, CW[i=1:num_products, t=1:num_periods], Int)\n",
    "@variable(model, FP[j=1:num_dsp_suites, p=1:num_products, t=1:num_periods], Int)\n",
    "@variable(model, FI[p=1:num_products, t=1:num_periods], Int)\n",
    "@variable(model, FW[p=1:num_products, t=1:num_periods], Int)\n",
    "@variable(model, S[p=1:num_products, t=1:num_periods], Int)\n",
    "@variable(model, Delta[p=1:num_products, t=1:num_periods], Int)\n",
    "\n",
    "# Continuous variables\n",
    "@variable(model, CT[i=1:num_usp_suites, p=1:num_products, t=1:num_periods] >= 0)\n",
    "@variable(model, CTtot[i=1:num_usp_suites, t=1:num_periods] >= 0)\n",
    "@variable(model, FT[j=1:num_dsp_suites, p=1:num_products, t=1:num_periods] >= 0)\n",
    "@variable(model, FTtot[j=1:num_dsp_suites, t=1:num_periods] >= 0)\n",
    "\n",
    "model"
   ]
  },
  {
   "cell_type": "markdown",
   "metadata": {},
   "source": [
    "#### Production constraints"
   ]
  },
  {
   "cell_type": "code",
   "execution_count": 42,
   "metadata": {},
   "outputs": [],
   "source": [
    "for i=1:num_usp_suites, p=1:num_products, t=1:num_periods \n",
    "    @constraint(model, CP[i,p,t] == Z[i,p,t] + \n",
    "                        CR[p]*(CT[i,p,t] - alpha[p]*Z[i,p,t]))\n",
    "end\n",
    "\n",
    "for j=1:num_dsp_suites, p=1:num_products, t=1:num_periods \n",
    "    @constraint(model, FP[j,p,t] == W[j,p,t] + \n",
    "                        FR[p]*(FT[j,p,t] - beta[p]*W[j,p,t]))\n",
    "end\n",
    "\n",
    "for i=1:num_usp_suites, p=1:num_products\n",
    "    @constraint(model, Z[i,p,1] >= Y[i,p,1])\n",
    "end\n",
    "\n",
    "for i=1:num_usp_suites, p=1:num_products, t=2:num_periods \n",
    "    @constraint(model, Z[i,p,t] >= Y[i,p,t] - Y[i,p,t-1])\n",
    "end\n",
    "\n",
    "for j=1:num_dsp_suites, p=1:num_products\n",
    "    @constraint(model, X[j,p,1] >= U[j,p,1])\n",
    "end\n",
    "\n",
    "for j=1:num_dsp_suites, p=1:num_products, t=2:num_periods \n",
    "    @constraint(model, X[j,p,t] >= U[j,p,t] - U[j,p,t-1])\n",
    "end\n",
    "\n",
    "for j=1:num_dsp_suites, p=1:num_products, t=1:num_periods \n",
    "    @constraint(model, W[j,p,t] >= (sum(Z[i,p,t] for i=1:num_usp_suites)\n",
    "                                    / num_usp_suites) + X[j,p,t] - 1) \n",
    "end\n",
    "\n",
    "for i=1:num_usp_suites, t=1:num_periods\n",
    "    @constraint(model, sum(Y[i,p,t] for p=1:num_products) <= 1)\n",
    "end\n",
    "\n",
    "for j=1:num_dsp_suites, t=1:num_periods\n",
    "    @constraint(model, sum(U[j,p,t] for p=1:num_products) <= 1)\n",
    "end"
   ]
  },
  {
   "cell_type": "markdown",
   "metadata": {},
   "source": [
    "#### Timing constraints"
   ]
  },
  {
   "cell_type": "code",
   "execution_count": 43,
   "metadata": {
    "collapsed": true
   },
   "outputs": [],
   "source": [
    "for i=1:num_usp_suites, p=1:num_products, t=1:num_periods\n",
    "    @constraint(model, CTmin[p] * Y[i,p,t] <= CT[i,p,t])\n",
    "end\n",
    "\n",
    "for i=1:num_usp_suites, p=1:num_products, t=1:num_periods\n",
    "    @constraint(model, CTmax[p] * Y[i,p,t] >= CT[i,p,t])  \n",
    "end\n",
    "\n",
    "for j=1:num_dsp_suites, p=1:num_products, t=1:num_periods\n",
    "    @constraint(model, FTmin[p] * U[j,p,t] <= FT[j,p,t])\n",
    "end\n",
    "\n",
    "for j=1:num_dsp_suites, p=1:num_products, t=1:num_periods\n",
    "    @constraint(model, FTmax[p] * U[j,p,t] >= FT[j,p,t]) \n",
    "end\n",
    "\n",
    "for i=1:num_usp_suites, t=1:num_periods\n",
    "    @constraint(model, CTtot[i,t] == sum(CT[i,p,t] for p=1:num_products))\n",
    "end\n",
    "\n",
    "for i=1:num_usp_suites, t=1:num_periods\n",
    "    @constraint(model, CTtot[i,t] <= H)\n",
    "end\n",
    "\n",
    "for j=1:num_dsp_suites, t=1:num_periods\n",
    "    @constraint(model, FTtot[j,t] == sum(FT[j,p,t] for p=1:num_products))  \n",
    "end\n",
    "\n",
    "for j=1:num_dsp_suites, t=1:num_periods\n",
    "    @constraint(model, FTtot[j,t] <= H)  \n",
    "end"
   ]
  },
  {
   "cell_type": "markdown",
   "metadata": {},
   "source": [
    "#### Storage constraints"
   ]
  },
  {
   "cell_type": "code",
   "execution_count": 44,
   "metadata": {},
   "outputs": [],
   "source": [
    "for p=1:num_products\n",
    "    @constraint(model, CI[p,1] == sum(CP[i,p,1] for i=1:num_usp_suites) \n",
    "                                  - (1/lambda[p])*sum(FP[j,p,1] for j=1:num_dsp_suites) - CW[p,1]) \n",
    "end\n",
    "\n",
    "for p=1:num_products, t=2:num_periods\n",
    "    @constraint(model, CI[p,t] == CI[p,t-1] + sum(CP[i,p,t] for i=1:num_usp_suites) \n",
    "                                  - (1/lambda[p])*sum(FP[j,p,t] for j=1:num_dsp_suites) - CW[p,t]) \n",
    "end\n",
    "\n",
    "for p=1:num_products\n",
    "    @constraint(model, FI[p,1] == sum(FP[j,p,1] for j=1:num_dsp_suites) - S[p,1] - FW[p,1])\n",
    "end\n",
    "\n",
    "for p=1:num_products, t=2:num_periods\n",
    "    @constraint(model, FI[p,t] == FI[p,t-1] + sum(FP[j,p,t] for j=1:num_dsp_suites) - S[p,t] - FW[p,t])\n",
    "end\n",
    "\n",
    "for p=1:num_products, t=1:num_periods\n",
    "    @constraint(model, CI[p,t] <= C[p])\n",
    "end\n",
    "\n",
    "for p=1:num_products, t=1:num_periods\n",
    "    @constraint(model, FI[p,t] <= F[p]) \n",
    "end\n",
    "\n",
    "for p=1:num_products, t=1:num_periods\n",
    "    @constraint(model, CI[p,t] <= sum(FP[j,p,theta] for j=1:num_dsp_suites, theta=(t+1):(t+zeta[p]) if theta <= num_periods))                                \n",
    "end\n",
    "\n",
    "for p=1:num_products, t=1:num_periods\n",
    "    @constraint(model, FI[p,t] <= sum(S[p,theta] for theta=(t+1):(t+sigma[p]) if theta <= num_periods))\n",
    "end"
   ]
  },
  {
   "cell_type": "markdown",
   "metadata": {},
   "source": [
    "#### Sales and penalty constraint"
   ]
  },
  {
   "cell_type": "code",
   "execution_count": 45,
   "metadata": {
    "scrolled": false
   },
   "outputs": [],
   "source": [
    "for p=1:num_products\n",
    "    @constraint(model, Delta[p,1] == demand[p,1] - S[p,1]) \n",
    "end\n",
    "\n",
    "for p=1:num_products, t=2:num_periods\n",
    "   @constraint(model, Delta[p,t] == Delta[p,t-1] + demand[p,t] - S[p,t]) \n",
    "end"
   ]
  },
  {
   "cell_type": "code",
   "execution_count": 46,
   "metadata": {
    "scrolled": false
   },
   "outputs": [],
   "source": [
    "#print(model)"
   ]
  },
  {
   "cell_type": "markdown",
   "metadata": {},
   "source": [
    "#### Objective"
   ]
  },
  {
   "cell_type": "code",
   "execution_count": 47,
   "metadata": {},
   "outputs": [
    {
     "name": "stdout",
     "output_type": "stream",
     "text": [
      "\r\n",
      "Root node processing (before b&c):\r\n",
      "  Real time             =    0.02 sec. (1.83 ticks)\r\n",
      "Parallel b&c, 4 threads:\r\n",
      "  Real time             =    0.00 sec. (0.00 ticks)\r\n",
      "  Sync time (average)   =    0.00 sec.\r\n",
      "  Wait time (average)   =    0.00 sec.\r\n",
      "                          ------------\r\n",
      "Total (root+branch&cut) =    0.02 sec. (1.83 ticks)\r\n",
      "Tried aggregator 0 times.\r\n",
      "Reduced MIP has 522 rows, 456 columns, and 1461 nonzeros.\r\n",
      "Reduced MIP has 180 binaries, 180 generals, 0 SOSs, and 0 indicators.\r\n",
      "Presolve time = 0.00 sec. (0.12 ticks)\r\n",
      "Probing fixed 0 vars, tightened 70 bounds.\r\n",
      "Probing changed sense of 6 constraints.\r\n",
      "Probing time = 0.00 sec. (0.34 ticks)\r\n",
      "Clique table members: 256.\r\n",
      "MIP emphasis: balance optimality and feasibility.\r\n",
      "MIP search method: dynamic search.\r\n",
      "Parallel mode: deterministic, using up to 4 threads.\r\n",
      "Root relaxation solution time = 0.00 sec. (0.15 ticks)\r\n",
      "\r\n",
      "        Nodes                                         Cuts/\r\n",
      "   Node  Left     Objective  IInf  Best Integer    Best Bound    ItCnt     Gap\r\n",
      "\r\n",
      "      0     0     unbounded                                          0         \r\n"
     ]
    },
    {
     "name": "stderr",
     "output_type": "stream",
     "text": [
      "\u001b[1m\u001b[33mWARNING: \u001b[39m\u001b[22m\u001b[33mNot solved to optimality, status: Unbounded\u001b[39m\n",
      "\u001b[1m\u001b[33mWARNING: \u001b[39m\u001b[22m\u001b[33mUnbounded ray not available\u001b[39m\n"
     ]
    },
    {
     "data": {
      "text/plain": [
       ":Unbounded"
      ]
     },
     "execution_count": 47,
     "metadata": {},
     "output_type": "execute_result"
    }
   ],
   "source": [
    "@objective(model, Max, \n",
    "           sum(nu[p]*S[p,t] \n",
    "               - sum(eta[p]*CP[i,p,t] for i=1:num_usp_suites)\n",
    "               - sum(eta[p]*FP[j,p,t] for j=1:num_dsp_suites)\n",
    "               - sum(psi[p]*Z[i,p,t] for i=1:num_usp_suites)\n",
    "               - sum(psi[p]*X[j,p,t] for j=1:num_dsp_suites)\n",
    "               - rho[p]*CI[p,t]\n",
    "               - omega[p]*FI[p,t]\n",
    "               - delta[p]*Delta[p,t]\n",
    "               - tau[p]*(CW[p,t] + FW[p,t])\n",
    "               for p=1:num_products, t=1:num_periods))\n",
    "\n",
    "status = solve(model)"
   ]
  },
  {
   "cell_type": "code",
   "execution_count": null,
   "metadata": {
    "collapsed": true
   },
   "outputs": [],
   "source": []
  }
 ],
 "metadata": {
  "kernelspec": {
   "display_name": "Julia 0.6.0",
   "language": "julia",
   "name": "julia-0.6"
  },
  "language_info": {
   "file_extension": ".jl",
   "mimetype": "application/julia",
   "name": "julia",
   "version": "0.6.0"
  }
 },
 "nbformat": 4,
 "nbformat_minor": 2
}
