{
 "cells": [
  {
   "cell_type": "markdown",
   "metadata": {},
   "source": [
    "## Example 1 problem from [Lakhdar et al. (2005)](http://onlinelibrary.wiley.com/doi/10.1021/bp0501571/abstract)\n",
    "\n",
    "$\\text{Maximise}$\n",
    "\n",
    "$$\\text{Profit} = \\sum_p \\sum_t (\\nu_pS_{pt} - \\sum_i \\eta_pCP_{ipt} - \\sum_j \\eta_pFP_{jpt} - \\sum_i \\psi_pZ_{ipt} - \\sum_j \\psi_pX_{jpt} - \\rho_pCI_{pt} - \\omega_pFI_{pt} - \\delta_p\\Delta_{pt} - \\tau_p(CW_{pt} + FW_{pt}))$$\n",
    "\n",
    "$\\text{Production constraints}$\n",
    "\n",
    "$$CP_{ipt} = Z_{ipt} + CR_p (CT_{ipt} - \\alpha_p Z_{ipt}) \\quad \\forall i, p, t$$\n",
    "<br>\n",
    "$$FP_{jpt} = W_{jpt} + FR_p (FT_{jpt} - \\beta_p W_{jpt}) \\quad \\forall j, p, t$$\n",
    "<br>\n",
    "$$Z_{ipt} \\ge Y_{ipt} - Y_{ip,t-1} \\quad \\forall i, p, t$$\n",
    "<br>\n",
    "$$X_{jpt} \\ge U_{jpt} - U_{jp,t-1} \\quad \\forall j, p, t$$\n",
    "<br>\n",
    "$$W_{jpt} \\ge \\frac{\\sum_i Z_{ipt}} {\\big|i\\big|} + X_{jpt} - 1 \\quad \\forall j, p, t$$ \n",
    "<br>\n",
    "$$\\sum_p Y_{ipt} \\le 1 \\quad \\forall i, t$$\n",
    "<br>\n",
    "$$\\sum_p U_{jpt} \\le 1 \\quad \\forall j, t$$\n",
    "\n",
    "$\\text{Timing constraints}$\n",
    "\n",
    "$$CT_p^{min} Y_{ipt} \\le CT_{ipt} \\quad \\forall i, p, t$$\n",
    "<br>\n",
    "$$CT_p^{max} Y_{ipt} \\ge CT_{ipt} \\quad \\forall i, p, t$$\n",
    "<br>\n",
    "$$FT_p^{min} U_{jpt} \\le FT_{jpt} \\quad \\forall j, p, t$$\n",
    "<br>\n",
    "$$FT_p^{max} U_{jpt} \\ge FT_{jpt} \\quad \\forall j, p, t$$\n",
    "<br>\n",
    "$$CT_{it}^{tot} = \\sum_p CT_{ipt} \\quad \\forall i, t$$\n",
    "<br>\n",
    "$$FT_{jt}^{tot} = \\sum_p FT_{jpt} \\quad \\forall j, t$$\n",
    "<br>\n",
    "$$CT_{it}^{tot} \\le H_t \\quad \\forall i, t$$\n",
    "<br>\n",
    "$$FT_{jt}^{tot} \\le H_t \\quad \\forall j, t$$\n",
    "\n",
    "$\\text{Storage constraints}$\n",
    "\n",
    "$$CI_{pt} = CI_{p,t-1} + \\sum_i CP_{ipt} - \\frac{1}{\\lambda_p} \\sum_j FP_{jpt} - CW_{pt} \\quad \\forall p, t$$\n",
    "<br>\n",
    "$$FI_{pt} = FI_{p,t-1} + \\sum_j FP_{jpt} - S_{pt} - FW_{pt} \\quad \\forall p, t$$\n",
    "<br>\n",
    "$$0 \\le CI_{pt} \\le C_p \\quad \\forall p, t$$\n",
    "<br>\n",
    "$$0 \\le FI_{pt} \\le F_p \\quad \\forall p, t$$\n",
    "<br>\n",
    "$$CI_{pt} \\le \\sum_j \\sum_{\\theta=t+1}^{t+\\zeta_p} FP_{jp\\theta} \\quad \\forall p, t$$\n",
    "<br>\n",
    "$$FI_{pt} \\le \\sum_{\\theta=t+1}^{t+\\sigma_p} S_{p\\theta} \\quad \\forall p, t$$\n",
    "\n",
    "$\\text{Sales and penalty constraint}$\n",
    "\n",
    "$$\\Delta_{pt} = \\Delta_{p,t-1} + D_{pt} - S_{pt} \\quad \\forall p, t$$"
   ]
  },
  {
   "cell_type": "markdown",
   "metadata": {},
   "source": [
    "### Input data"
   ]
  },
  {
   "cell_type": "code",
   "execution_count": null,
   "metadata": {},
   "outputs": [],
   "source": [
    "num_products = 3 # |p|\n",
    "num_usp_suites = 2 # |i|\n",
    "num_dsp_suites = 2 # |j|\n",
    "num_periods = 6 # |t|\n",
    "\n",
    "demand = [0 0 0 6 0 6;\n",
    "          0 0 6 0 0 0;\n",
    "          0 8 0 0 8 0]\n",
    "\n",
    "# USP parameters\n",
    "CR = [0.05 0.045 0.08]\n",
    "alpha = [30 32 22.5]\n",
    "zeta = [1 1 1]\n",
    "C = [10 10 10]\n",
    "CTmin = [20 21 12.5]\n",
    "CTmax = [60 60 60]\n",
    "rho = [5 5 5]\n",
    "nu = [20 20 20]\n",
    "eta = [2 2 2]\n",
    "tau = [5 5 5]\n",
    "\n",
    "# DSP parameters\n",
    "FR = [0.1 0.1 0.1]\n",
    "beta = [40 42 34.5]\n",
    "sigma = [3 3 3]\n",
    "F = [40 40 40]\n",
    "FTmin = [10 10 10]\n",
    "FTmax = [60 60 60]\n",
    "omega = [1 1 1]\n",
    "\n",
    "# Other\n",
    "delta = [20 20 20]\n",
    "psi = [1 1 1]\n",
    "lambda = [1 1 1]\n",
    "H = 60"
   ]
  },
  {
   "cell_type": "markdown",
   "metadata": {},
   "source": [
    "### Implementation\n",
    "\n",
    "#### Variables"
   ]
  },
  {
   "cell_type": "code",
   "execution_count": 32,
   "metadata": {},
   "outputs": [
    {
     "data": {
      "text/latex": [
       "$$ \\begin{alignat*}{1}\\min\\quad & 0\\\\\n",
       "\\text{Subject to} \\quad & U_{j,p,t} \\in \\{0,1\\} \\quad\\forall j \\in \\{1,2\\}, p \\in \\{1,2,3\\}, t \\in \\{1,2,\\dots,5,6\\}\\\\\n",
       " & W_{j,p,t} \\in \\{0,1\\} \\quad\\forall j \\in \\{1,2\\}, p \\in \\{1,2,3\\}, t \\in \\{1,2,\\dots,5,6\\}\\\\\n",
       " & X_{j,p,t} \\in \\{0,1\\} \\quad\\forall j \\in \\{1,2\\}, p \\in \\{1,2,3\\}, t \\in \\{1,2,\\dots,5,6\\}\\\\\n",
       " & Y_{i,p,t} \\in \\{0,1\\} \\quad\\forall i \\in \\{1,2\\}, p \\in \\{1,2,3\\}, t \\in \\{1,2,\\dots,5,6\\}\\\\\n",
       " & Z_{i,p,t} \\in \\{0,1\\} \\quad\\forall i \\in \\{1,2\\}, p \\in \\{1,2,3\\}, t \\in \\{1,2,\\dots,5,6\\}\\\\\n",
       " & CP_{i,p,t} \\geq 0, \\in \\mathbb{Z}, \\quad\\forall i \\in \\{1,2\\}, p \\in \\{1,2,3\\}, t \\in \\{1,2,\\dots,5,6\\}\\\\\n",
       " & CI_{p,t} \\geq 0, \\in \\mathbb{Z}, \\quad\\forall p \\in \\{1,2,3\\}, t \\in \\{1,2,\\dots,5,6\\}\\\\\n",
       " & CW_{p,t} \\geq 0, \\in \\mathbb{Z}, \\quad\\forall p \\in \\{1,2,3\\}, t \\in \\{1,2,\\dots,5,6\\}\\\\\n",
       " & FP_{j,p,t} \\geq 0, \\in \\mathbb{Z}, \\quad\\forall j \\in \\{1,2\\}, p \\in \\{1,2,3\\}, t \\in \\{1,2,\\dots,5,6\\}\\\\\n",
       " & FI_{p,t} \\geq 0, \\in \\mathbb{Z}, \\quad\\forall p \\in \\{1,2,3\\}, t \\in \\{1,2,\\dots,5,6\\}\\\\\n",
       " & FW_{p,t} \\geq 0, \\in \\mathbb{Z}, \\quad\\forall p \\in \\{1,2,3\\}, t \\in \\{1,2,\\dots,5,6\\}\\\\\n",
       " & S_{p,t} \\geq 0, \\in \\mathbb{Z}, \\quad\\forall p \\in \\{1,2,3\\}, t \\in \\{1,2,\\dots,5,6\\}\\\\\n",
       " & Delta_{p,t} \\geq 0, \\in \\mathbb{Z}, \\quad\\forall p \\in \\{1,2,3\\}, t \\in \\{1,2,\\dots,5,6\\}\\\\\n",
       " & CT_{i,p,t} \\geq 0 \\quad\\forall i \\in \\{1,2\\}, p \\in \\{1,2,3\\}, t \\in \\{1,2,\\dots,5,6\\}\\\\\n",
       " & CTtot_{i,t} \\geq 0 \\quad\\forall i \\in \\{1,2\\}, t \\in \\{1,2,\\dots,5,6\\}\\\\\n",
       " & FT_{j,p,t} \\geq 0 \\quad\\forall j \\in \\{1,2\\}, p \\in \\{1,2,3\\}, t \\in \\{1,2,\\dots,5,6\\}\\\\\n",
       " & FTtot_{j,t} \\geq 0 \\quad\\forall j \\in \\{1,2\\}, t \\in \\{1,2,\\dots,5,6\\}\\\\\n",
       "\\end{alignat*}\n",
       " $$"
      ],
      "text/plain": [
       "Feasibility problem with:\n",
       " * 0 linear constraints\n",
       " * 456 variables: 180 binary, 180 integer\n",
       "Solver is Cplex"
      ]
     },
     "execution_count": 32,
     "metadata": {},
     "output_type": "execute_result"
    }
   ],
   "source": [
    "using JuMP, CPLEX\n",
    "\n",
    "model = Model(solver=CplexSolver())\n",
    "\n",
    "# Binary variables\n",
    "@variable(model, U[j=1:num_dsp_suites, p=1:num_products, t=1:num_periods], Bin)\n",
    "@variable(model, W[j=1:num_dsp_suites, p=1:num_products, t=1:num_periods], Bin)\n",
    "@variable(model, X[j=1:num_dsp_suites, p=1:num_products, t=1:num_periods], Bin)\n",
    "@variable(model, Y[i=1:num_usp_suites, p=1:num_products, t=1:num_periods], Bin)\n",
    "@variable(model, Z[i=1:num_usp_suites, p=1:num_products, t=1:num_periods], Bin)\n",
    "\n",
    "# Integer variables\n",
    "@variable(model, CP[i=1:num_usp_suites, p=1:num_products, t=1:num_periods] >= 0, Int)\n",
    "@variable(model, CI[p=1:num_products, t=1:num_periods] >= 0, Int)\n",
    "@variable(model, CW[p=1:num_products, t=1:num_periods] >= 0, Int)\n",
    "@variable(model, FP[j=1:num_dsp_suites, p=1:num_products, t=1:num_periods] >= 0, Int)\n",
    "@variable(model, FI[p=1:num_products, t=1:num_periods] >= 0, Int)\n",
    "@variable(model, FW[p=1:num_products, t=1:num_periods] >= 0, Int)\n",
    "@variable(model, S[p=1:num_products, t=1:num_periods] >= 0, Int)\n",
    "@variable(model, Delta[p=1:num_products, t=1:num_periods] >= 0, Int)\n",
    "\n",
    "# Continuous variables\n",
    "@variable(model, CT[i=1:num_usp_suites, p=1:num_products, t=1:num_periods] >= 0)\n",
    "@variable(model, CTtot[i=1:num_usp_suites, t=1:num_periods] >= 0)\n",
    "@variable(model, FT[j=1:num_dsp_suites, p=1:num_products, t=1:num_periods] >= 0)\n",
    "@variable(model, FTtot[j=1:num_dsp_suites, t=1:num_periods] >= 0)\n",
    "\n",
    "model"
   ]
  },
  {
   "cell_type": "markdown",
   "metadata": {},
   "source": [
    "#### Production constraints"
   ]
  },
  {
   "cell_type": "code",
   "execution_count": 33,
   "metadata": {},
   "outputs": [],
   "source": [
    "for i=1:num_usp_suites, p=1:num_products, t=1:num_periods \n",
    "    @constraint(model, CP[i,p,t] == Z[i,p,t] + \n",
    "                        CR[p]*(CT[i,p,t] - alpha[p]*Z[i,p,t]))\n",
    "end\n",
    "\n",
    "for j=1:num_dsp_suites, p=1:num_products, t=1:num_periods \n",
    "    @constraint(model, FP[j,p,t] == W[j,p,t] + \n",
    "                        FR[p]*(FT[j,p,t] - beta[p]*W[j,p,t]))\n",
    "end\n",
    "\n",
    "for i=1:num_usp_suites, p=1:num_products\n",
    "    @constraint(model, Z[i,p,1] >= Y[i,p,1])\n",
    "end\n",
    "\n",
    "for i=1:num_usp_suites, p=1:num_products, t=2:num_periods \n",
    "    @constraint(model, Z[i,p,t] >= Y[i,p,t] - Y[i,p,t-1])\n",
    "end\n",
    "\n",
    "for j=1:num_dsp_suites, p=1:num_products\n",
    "    @constraint(model, X[j,p,1] >= U[j,p,1])\n",
    "end\n",
    "\n",
    "for j=1:num_dsp_suites, p=1:num_products, t=2:num_periods \n",
    "    @constraint(model, X[j,p,t] >= U[j,p,t] - U[j,p,t-1])\n",
    "end\n",
    "\n",
    "for j=1:num_dsp_suites, p=1:num_products, t=1:num_periods \n",
    "    @constraint(model, W[j,p,t] >= (sum(Z[i,p,t] for i=1:num_usp_suites)\n",
    "                                    / num_usp_suites) + X[j,p,t] - 1) \n",
    "end\n",
    "\n",
    "for i=1:num_usp_suites, t=1:num_periods\n",
    "    @constraint(model, sum(Y[i,p,t] for p=1:num_products) <= 1)\n",
    "end\n",
    "\n",
    "for j=1:num_dsp_suites, t=1:num_periods\n",
    "    @constraint(model, sum(U[j,p,t] for p=1:num_products) <= 1)\n",
    "end"
   ]
  },
  {
   "cell_type": "markdown",
   "metadata": {},
   "source": [
    "#### Timing constraints"
   ]
  },
  {
   "cell_type": "code",
   "execution_count": 34,
   "metadata": {
    "collapsed": true
   },
   "outputs": [],
   "source": [
    "for i=1:num_usp_suites, p=1:num_products, t=1:num_periods\n",
    "    @constraint(model, CTmin[p] * Y[i,p,t] <= CT[i,p,t])\n",
    "end\n",
    "\n",
    "for i=1:num_usp_suites, p=1:num_products, t=1:num_periods\n",
    "    @constraint(model, CTmax[p] * Y[i,p,t] >= CT[i,p,t])  \n",
    "end\n",
    "\n",
    "for j=1:num_dsp_suites, p=1:num_products, t=1:num_periods\n",
    "    @constraint(model, FTmin[p] * U[j,p,t] <= FT[j,p,t])\n",
    "end\n",
    "\n",
    "for j=1:num_dsp_suites, p=1:num_products, t=1:num_periods\n",
    "    @constraint(model, FTmax[p] * U[j,p,t] >= FT[j,p,t]) \n",
    "end\n",
    "\n",
    "for i=1:num_usp_suites, t=1:num_periods\n",
    "    @constraint(model, CTtot[i,t] == sum(CT[i,p,t] for p=1:num_products))\n",
    "end\n",
    "\n",
    "for i=1:num_usp_suites, t=1:num_periods\n",
    "    @constraint(model, CTtot[i,t] <= H)\n",
    "end\n",
    "\n",
    "for j=1:num_dsp_suites, t=1:num_periods\n",
    "    @constraint(model, FTtot[j,t] == sum(FT[j,p,t] for p=1:num_products))  \n",
    "end\n",
    "\n",
    "for j=1:num_dsp_suites, t=1:num_periods\n",
    "    @constraint(model, FTtot[j,t] <= H)  \n",
    "end"
   ]
  },
  {
   "cell_type": "markdown",
   "metadata": {},
   "source": [
    "#### Storage constraints"
   ]
  },
  {
   "cell_type": "code",
   "execution_count": 35,
   "metadata": {},
   "outputs": [],
   "source": [
    "for p=1:num_products\n",
    "    @constraint(model, CI[p,1] == sum(CP[i,p,1] for i=1:num_usp_suites) \n",
    "                                  - (1/lambda[p])*sum(FP[j,p,1] for j=1:num_dsp_suites) - CW[p,1]) \n",
    "end\n",
    "\n",
    "for p=1:num_products, t=2:num_periods\n",
    "    @constraint(model, CI[p,t] == CI[p,t-1] + sum(CP[i,p,t] for i=1:num_usp_suites) \n",
    "                                  - (1/lambda[p])*sum(FP[j,p,t] for j=1:num_dsp_suites) - CW[p,t]) \n",
    "end\n",
    "\n",
    "for p=1:num_products\n",
    "    @constraint(model, FI[p,1] == sum(FP[j,p,1] for j=1:num_dsp_suites) - S[p,1] - FW[p,1])\n",
    "end\n",
    "\n",
    "for p=1:num_products, t=2:num_periods\n",
    "    @constraint(model, FI[p,t] == FI[p,t-1] + sum(FP[j,p,t] for j=1:num_dsp_suites) - S[p,t] - FW[p,t])\n",
    "end\n",
    "\n",
    "for p=1:num_products, t=1:num_periods\n",
    "    @constraint(model, CI[p,t] <= C[p])\n",
    "end\n",
    "\n",
    "for p=1:num_products, t=1:num_periods\n",
    "    @constraint(model, FI[p,t] <= F[p]) \n",
    "end\n",
    "\n",
    "for p=1:num_products, t=1:num_periods\n",
    "    @constraint(model, CI[p,t] <= sum(FP[j,p,theta] for j=1:num_dsp_suites, theta=(t+1):(t+zeta[p]) if theta <= num_periods))                                \n",
    "end\n",
    "\n",
    "for p=1:num_products, t=1:num_periods\n",
    "    @constraint(model, FI[p,t] <= sum(S[p,theta] for theta=(t+1):(t+sigma[p]) if theta <= num_periods))\n",
    "end"
   ]
  },
  {
   "cell_type": "markdown",
   "metadata": {},
   "source": [
    "#### Sales and penalty constraint"
   ]
  },
  {
   "cell_type": "code",
   "execution_count": 36,
   "metadata": {
    "scrolled": false
   },
   "outputs": [],
   "source": [
    "for p=1:num_products\n",
    "    @constraint(model, Delta[p,1] == demand[p,1] - S[p,1]) \n",
    "end\n",
    "\n",
    "for p=1:num_products, t=2:num_periods\n",
    "   @constraint(model, Delta[p,t] == Delta[p,t-1] + demand[p,t] - S[p,t]) \n",
    "end"
   ]
  },
  {
   "cell_type": "code",
   "execution_count": 37,
   "metadata": {
    "scrolled": false
   },
   "outputs": [],
   "source": [
    "#print(model)"
   ]
  },
  {
   "cell_type": "markdown",
   "metadata": {},
   "source": [
    "#### Objective"
   ]
  },
  {
   "cell_type": "code",
   "execution_count": 38,
   "metadata": {},
   "outputs": [
    {
     "name": "stdout",
     "output_type": "stream",
     "text": [
      "\r\n",
      "Root node processing (before b&c):\r\n",
      "  Real time             =    0.00 sec. (0.60 ticks)\r\n",
      "Parallel b&c, 4 threads:\r\n",
      "  Real time             =    0.00 sec. (0.00 ticks)\r\n",
      "  Sync time (average)   =    0.00 sec.\r\n",
      "  Wait time (average)   =    0.00 sec.\r\n",
      "                          ------------\r\n",
      "Total (root+branch&cut) =    0.00 sec. (0.60 ticks)\r\n",
      "CPLEX Error  1217: No solution exists.\r\n",
      "Tried aggregator 2 times.\r\n",
      "MIP Presolve eliminated 74 rows and 44 columns.\r\n",
      "MIP Presolve modified 98 coefficients.\r\n",
      "Aggregator did 25 substitutions.\r\n",
      "Reduced MIP has 423 rows, 387 columns, and 1293 nonzeros.\r\n",
      "Reduced MIP has 172 binaries, 155 generals, 0 SOSs, and 0 indicators.\r\n",
      "Presolve time = 0.00 sec. (1.40 ticks)\r\n",
      "Found incumbent of value -2080.000000 after 0.00 sec. (1.74 ticks)\r\n",
      "Probing fixed 0 vars, tightened 18 bounds.\r\n",
      "Probing changed sense of 4 constraints.\r\n",
      "Probing time = 0.00 sec. (0.41 ticks)\r\n",
      "Cover probing fixed 0 vars, tightened 8 bounds.\r\n",
      "Tried aggregator 1 time.\r\n",
      "MIP Presolve eliminated 4 rows and 4 columns.\r\n",
      "MIP Presolve modified 40 coefficients.\r\n",
      "Reduced MIP has 419 rows, 383 columns, and 1285 nonzeros.\r\n",
      "Reduced MIP has 168 binaries, 191 generals, 0 SOSs, and 0 indicators.\r\n",
      "Presolve time = 0.00 sec. (0.87 ticks)\r\n",
      "Probing fixed 0 vars, tightened 2 bounds.\r\n",
      "Probing time = 0.00 sec. (0.38 ticks)\r\n",
      "Cover probing fixed 0 vars, tightened 6 bounds.\r\n",
      "Clique table members: 288.\r\n",
      "MIP emphasis: balance optimality and feasibility.\r\n",
      "MIP search method: dynamic search.\r\n",
      "Parallel mode: deterministic, using up to 4 threads.\r\n",
      "Root relaxation solution time = 0.00 sec. (2.44 ticks)\r\n",
      "\r\n",
      "        Nodes                                         Cuts/\r\n",
      "   Node  Left     Objective  IInf  Best Integer    Best Bound    ItCnt     Gap\r\n",
      "\r\n",
      "*     0+    0                        -2080.0000     2400.0000           215.38%\r\n",
      "      0     0      524.8069    98    -2080.0000      524.8069      171  125.23%\r\n",
      "      0     0      518.8313   117    -2080.0000     Cuts: 105      270  124.94%\r\n",
      "      0     0      512.0400   137    -2080.0000      Cuts: 60      351  124.62%\r\n",
      "      0     0      507.5103   144    -2080.0000      Cuts: 41      386  124.40%\r\n",
      "      0     0      506.0687   115    -2080.0000      Cuts: 15      403  124.33%\r\n",
      "      0     0      506.0687   115    -2080.0000   ZeroHalf: 5      405  124.33%\r\n",
      "*     0+    0                          177.0000      506.0687           185.91%\r\n",
      "*     0+    0                          348.0000      506.0687            45.42%\r\n",
      "*     0+    0                          357.0000      506.0687            41.76%\r\n",
      "      0     2      506.0687   114      357.0000      506.0687      405   41.76%\r\n",
      "Elapsed time = 0.19 sec. (61.61 ticks, tree = 0.01 MB, solutions = 4)\r\n",
      "*     2+    2                          378.0000      506.0687            33.88%\r\n",
      "*     9+    3                          382.0000      506.0687            32.48%\r\n",
      "*   116    69      integral     0      384.0000      505.2097     2365   31.57%\r\n",
      "*   137+   61                          405.0000      505.2097            24.74%\r\n",
      "*   199+   92                          470.0000      499.3333             6.24%\r\n",
      "*   201+   84                          479.0000      499.3333             4.24%\r\n",
      "*   217+   84                          483.0000      499.3333             3.38%\r\n",
      "*   333    61      integral     0      488.0000      498.2083     3793    2.09%\r\n",
      "*   375+   23                          489.0000      498.0833             1.86%\r\n",
      "*   455    22      integral     0      490.0000      498.0833     5151    1.65%\r\n"
     ]
    },
    {
     "data": {
      "text/plain": [
       ":Optimal"
      ]
     },
     "execution_count": 38,
     "metadata": {},
     "output_type": "execute_result"
    }
   ],
   "source": [
    "@objective(model, Max, \n",
    "           sum(nu[p]*S[p,t] \n",
    "               - sum(eta[p]*CP[i,p,t] for i=1:num_usp_suites)\n",
    "               - sum(eta[p]*FP[j,p,t] for j=1:num_dsp_suites)\n",
    "               - sum(psi[p]*Z[i,p,t] for i=1:num_usp_suites)\n",
    "               - sum(psi[p]*X[j,p,t] for j=1:num_dsp_suites)\n",
    "               - rho[p]*CI[p,t]\n",
    "               - omega[p]*FI[p,t]\n",
    "               - delta[p]*Delta[p,t]\n",
    "               - tau[p]*(CW[p,t] + FW[p,t])\n",
    "               for p=1:num_products, t=1:num_periods))\n",
    "\n",
    "status = solve(model)"
   ]
  },
  {
   "cell_type": "code",
   "execution_count": null,
   "metadata": {
    "collapsed": true
   },
   "outputs": [],
   "source": []
  }
 ],
 "metadata": {
  "kernelspec": {
   "display_name": "Julia 0.6.0",
   "language": "julia",
   "name": "julia-0.6"
  },
  "language_info": {
   "file_extension": ".jl",
   "mimetype": "application/julia",
   "name": "julia",
   "version": "0.6.0"
  }
 },
 "nbformat": 4,
 "nbformat_minor": 2
}
